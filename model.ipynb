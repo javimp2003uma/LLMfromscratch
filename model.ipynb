{
 "cells": [
  {
   "cell_type": "code",
   "execution_count": 40,
   "id": "261883b4-5c1a-41ba-9eec-11fbeaed62e4",
   "metadata": {},
   "outputs": [
    {
     "name": "stdout",
     "output_type": "stream",
     "text": [
      "cpu\n"
     ]
    }
   ],
   "source": [
    "import torch\n",
    "import torch.nn as nn\n",
    "from torch.nn import functional as F\n",
    "device = 'cuda' if torch.cuda.is_available() else 'cpu'\n",
    "print(device)\n",
    "block_size = 8\n",
    "batch_size = 4\n",
    "max_iters = 10000\n",
    "learning_rate = 3e-4\n",
    "eval_iters = 250\n",
    "dropout = 0.2"
   ]
  },
  {
   "cell_type": "code",
   "execution_count": 30,
   "id": "930a22c7-dbf0-4c2c-a6d7-c79564fd7936",
   "metadata": {
    "scrolled": true
   },
   "outputs": [
    {
     "name": "stdout",
     "output_type": "stream",
     "text": [
      "['\\n', ' ', '!', '\"', '&', \"'\", '(', ')', '*', ',', '-', '.', '0', '1', '2', '3', '4', '5', '6', '7', '8', '9', ':', ';', '?', 'A', 'B', 'C', 'D', 'E', 'F', 'G', 'H', 'I', 'J', 'K', 'L', 'M', 'N', 'O', 'P', 'Q', 'R', 'S', 'T', 'U', 'V', 'W', 'X', 'Y', 'Z', '[', ']', '_', 'a', 'b', 'c', 'd', 'e', 'f', 'g', 'h', 'i', 'j', 'k', 'l', 'm', 'n', 'o', 'p', 'q', 'r', 's', 't', 'u', 'v', 'w', 'x', 'y', 'z', '\\ufeff']\n"
     ]
    }
   ],
   "source": [
    "with open('wizard_of_oz.txt', 'r', encoding='utf-8') as f:\n",
    "    text = f.read()\n",
    "chars = sorted(set(text))\n",
    "print(chars)\n",
    "vocab_size = len(chars)"
   ]
  },
  {
   "cell_type": "markdown",
   "id": "83060b19-daf7-447e-a365-a272efc9af67",
   "metadata": {},
   "source": [
    "#### Building the transformer (encode - decode)"
   ]
  },
  {
   "cell_type": "code",
   "execution_count": 31,
   "id": "a289b747-aa78-45c3-aa5b-03d061660659",
   "metadata": {},
   "outputs": [],
   "source": [
    "string_to_int = {ch:i for i,ch in enumerate(chars)}\n",
    "int_to_string = {i:ch for i,ch in enumerate(chars)}\n",
    "encode = lambda s: [string_to_int[c] for c in s]\n",
    "decode = lambda l: ''.join([int_to_string[i] for i in l])"
   ]
  },
  {
   "cell_type": "markdown",
   "id": "761485fa-146f-4e45-9d6e-e9745b7bcc34",
   "metadata": {},
   "source": [
    "#### We are using character level transformer"
   ]
  },
  {
   "cell_type": "code",
   "execution_count": 32,
   "id": "03a8fa96-9dff-465f-a5ea-b9fc9263f90b",
   "metadata": {},
   "outputs": [
    {
     "name": "stdout",
     "output_type": "stream",
     "text": [
      "tensor([80,  1,  1, 28, 39, 42, 39, 44, 32, 49,  1, 25, 38, 28,  1, 44, 32, 29,\n",
      "         1, 47, 33, 50, 25, 42, 28,  1, 33, 38,  1, 39, 50,  0,  0,  1,  1, 26,\n",
      "        49,  0,  0,  1,  1, 36, 11,  1, 30, 42, 25, 38, 35,  1, 26, 25, 45, 37,\n",
      "         0,  0,  1,  1, 25, 45, 44, 32, 39, 42,  1, 39, 30,  1, 44, 32, 29,  1,\n",
      "        47, 33, 50, 25, 42, 28,  1, 39, 30,  1, 39, 50,  9,  1, 44, 32, 29,  1,\n",
      "        36, 25, 38, 28,  1, 39, 30,  1, 39, 50])\n"
     ]
    }
   ],
   "source": [
    "data = torch.tensor(encode(text), dtype = torch.long)\n",
    "print(data[:100])"
   ]
  },
  {
   "cell_type": "code",
   "execution_count": 33,
   "id": "eff3f56f-c7f4-48cc-85f7-96a77e1b2696",
   "metadata": {},
   "outputs": [
    {
     "name": "stdout",
     "output_type": "stream",
     "text": [
      "inputs:\n",
      "tensor([[58, 71,  1, 69, 54, 71, 73,  1],\n",
      "        [54, 62, 71,  9,  1, 54, 67, 57],\n",
      "        [76, 61, 68,  1, 72, 73, 54, 71],\n",
      "        [69, 58, 67, 58, 57,  1, 73, 68]])\n",
      "targets:\n",
      "tensor([[71,  1, 69, 54, 71, 73,  1, 68],\n",
      "        [62, 71,  9,  1, 54, 67, 57,  1],\n",
      "        [61, 68,  1, 72, 73, 54, 71, 58],\n",
      "        [58, 67, 58, 57,  1, 73, 68,  1]])\n"
     ]
    }
   ],
   "source": [
    "n = int(0.8*len(data))\n",
    "train_data = data[:n]\n",
    "val_data = data[n:]\n",
    "\n",
    "def get_batch(split):\n",
    "    data = train_data if split == 'train' else val_data\n",
    "    # This line generates a tensor of random starting indices used to create sequences from the dataset\n",
    "    ix = torch.randint(len(data) - block_size, (batch_size,))\n",
    "    \n",
    "    x = torch.stack([data[i:i+block_size] for i in ix])\n",
    "    y = torch.stack([data[i+1:i+block_size+1] for i in ix])\n",
    "    x, y = x.to(device), y.to(device)\n",
    "    return x,y\n",
    "\n",
    "x,y = get_batch('train')\n",
    "print('inputs:')\n",
    "print(x)\n",
    "print('targets:')\n",
    "print(y)"
   ]
  },
  {
   "cell_type": "code",
   "execution_count": 38,
   "id": "e0455d33-0b11-4e45-9a8f-a05adf4ab20a",
   "metadata": {},
   "outputs": [],
   "source": [
    "@torch.no_grad()\n",
    "def estimate_loss():\n",
    "    \"\"\"\n",
    "        Computes and returns the average loss for both the training and validation datasets by\n",
    "        evaluating the model without tracking gradients. It does this by running multiple evaluation\n",
    "        iterations, calculating the loss for each batch, and averaging these losses for each dataset split.\n",
    "    \"\"\"\n",
    "    \n",
    "    out = {}\n",
    "    # Sets the model to evaluation mode\n",
    "    model.eval()\n",
    "    for split in ['train', 'val']:\n",
    "        losses = torch.zeros(eval_iters)\n",
    "        for k in range(eval_iters):\n",
    "            X, Y = get_batch(split)\n",
    "            logits, loss = model(X, Y)\n",
    "            losses[k] = loss.item()\n",
    "        out[split] = losses.mean()\n",
    "    model.train()\n",
    "    return out"
   ]
  },
  {
   "cell_type": "code",
   "execution_count": 34,
   "id": "a2cec74d-e95a-4017-b228-ab9f9d33a6db",
   "metadata": {},
   "outputs": [
    {
     "name": "stdout",
     "output_type": "stream",
     "text": [
      "\n",
      "sea1II6﻿FF7nyKcF2xt\"a1IuCBS0a\n",
      "q9I]B*?zH6OX&oC\"3M,)dh4N?\n",
      "C bu*Udp27j88zd4zr7.&)syccUp[KB\"hWBBQHF\n",
      ".l7n1vO-wZeI_p:vti4JE0TcXBBs_Unc8Ru﻿mzAby8H90GZz,jsRuFq4Ex9G\"tX1w*X*:p4bhlFnysSOmE9h:.\"Glq6H6&﻿;Gl'QQv1*hZHvw-kXjsTt:w*P&*P8*es9cRMHU,l0h;xvwn;8﻿BBXK[5[)vpF'O,*5h1VP&-tanxseduzrhmcU*kmsg,yKXiUj6MKb:v-nPA_kQESmE.)-OshtZg659\n",
      "4F﻿mn?hXHEP)t'O4i&[vj9Nu2aN?[X(TMVU84F:v8twB-73KgzMPkLE0pNq6kL25TWVMmE28﻿TWHFssw!BCn\n",
      ";XWVd4n6vw*kbK&﻿_rQzX)mO(﻿BY).GseG_8UdgokCUMvB4peyz,QJ﻿qF;oq]E79\n",
      "XtwYRMg,*W*PQi''7Dr8\"7VL.7\"JR*)\n"
     ]
    }
   ],
   "source": [
    "class BigramLanguageModel(nn.Module):\n",
    "    def __init__(self, vocab_size):\n",
    "        super().__init__()\n",
    "        self.token_embedding_table = nn.Embedding(vocab_size, vocab_size)\n",
    "\n",
    "    def forward(self, index, targets = None):\n",
    "        # index is a tensor of token indices. Its shape is (B, T), where B is the batch size and T is the sequence length (number of tokens in each sequence).\n",
    "        #            for example:\n",
    "        #            hello\n",
    "        #            car\n",
    "        #            table                     the nº of rows is the batch_size -> whole shape is (B,T)\n",
    "        #            sky\n",
    "        #            cupboard\n",
    "        # thats why self.token_embedding_table(index) returns a (B,T,C) tensor\n",
    "        logits = self.token_embedding_table(index)\n",
    "        if targets is None:\n",
    "            loss = None\n",
    "        else:\n",
    "            B, T, C = logits.shape\n",
    "            logits = logits.view(B*T, C) # view reshapes the tensor which is being used\n",
    "            targets = targets.view(B*T)\n",
    "            loss = F.cross_entropy(logits, targets)\n",
    "        return logits, loss\n",
    "\n",
    "    def generate(self, index, max_new_tokens):\n",
    "        # index is (B, T) array of indices in the current context\n",
    "        for _ in range(max_new_tokens):\n",
    "            # get the predictions\n",
    "            logits, loss = self.forward(index)\n",
    "            # focus only on the last time step\n",
    "            # as self.forward has been called just with \"index\", logits is gonna be (B,T,C) 3-dimensional\n",
    "            logits = logits[:, -1, :] # becomes (B, C)\n",
    "            # apply softmax to get probabilities\n",
    "            probs = F.softmax(logits, dim=-1) # (B, C)\n",
    "            # sample from the distribution\n",
    "            index_next = torch.multinomial(probs, num_samples=1) # (B, 1)\n",
    "            # append sampled index to the running sequence\n",
    "            index = torch.cat((index, index_next), dim=1) # (B, T+1)\n",
    "        return index\n",
    "\n",
    "model = BigramLanguageModel(vocab_size)\n",
    "m = model.to(device)\n",
    "\n",
    "context = torch.zeros((1,1), dtype=torch.long, device=device)\n",
    "generated_chars = decode(m.generate(context, max_new_tokens=500)[0].tolist())\n",
    "print(generated_chars)"
   ]
  },
  {
   "cell_type": "code",
   "execution_count": 39,
   "id": "efeb12b5-cba4-43c0-afe4-82f0188b89d6",
   "metadata": {},
   "outputs": [
    {
     "name": "stdout",
     "output_type": "stream",
     "text": [
      "step: 0, train loss: 3.228, val loss: 3.224\n",
      "step: 250, train loss: 3.177, val loss: 3.192\n",
      "step: 500, train loss: 3.162, val loss: 3.157\n",
      "step: 750, train loss: 3.131, val loss: 3.141\n",
      "step: 1000, train loss: 3.114, val loss: 3.110\n",
      "step: 1250, train loss: 3.074, val loss: 3.091\n",
      "step: 1500, train loss: 3.065, val loss: 3.054\n",
      "step: 1750, train loss: 3.044, val loss: 3.041\n",
      "step: 2000, train loss: 3.015, val loss: 3.025\n",
      "step: 2250, train loss: 2.992, val loss: 3.011\n",
      "step: 2500, train loss: 2.986, val loss: 2.992\n",
      "step: 2750, train loss: 2.949, val loss: 2.973\n",
      "step: 3000, train loss: 2.943, val loss: 2.957\n",
      "step: 3250, train loss: 2.921, val loss: 2.926\n",
      "step: 3500, train loss: 2.909, val loss: 2.928\n",
      "step: 3750, train loss: 2.889, val loss: 2.889\n",
      "step: 4000, train loss: 2.892, val loss: 2.870\n",
      "step: 4250, train loss: 2.858, val loss: 2.891\n",
      "step: 4500, train loss: 2.834, val loss: 2.876\n",
      "step: 4750, train loss: 2.824, val loss: 2.856\n",
      "step: 5000, train loss: 2.820, val loss: 2.860\n",
      "step: 5250, train loss: 2.809, val loss: 2.815\n",
      "step: 5500, train loss: 2.785, val loss: 2.809\n",
      "step: 5750, train loss: 2.791, val loss: 2.800\n",
      "step: 6000, train loss: 2.774, val loss: 2.793\n",
      "step: 6250, train loss: 2.753, val loss: 2.768\n",
      "step: 6500, train loss: 2.772, val loss: 2.741\n",
      "step: 6750, train loss: 2.733, val loss: 2.763\n",
      "step: 7000, train loss: 2.730, val loss: 2.723\n",
      "step: 7250, train loss: 2.722, val loss: 2.751\n",
      "step: 7500, train loss: 2.729, val loss: 2.724\n",
      "step: 7750, train loss: 2.707, val loss: 2.730\n",
      "step: 8000, train loss: 2.703, val loss: 2.734\n",
      "step: 8250, train loss: 2.677, val loss: 2.687\n",
      "step: 8500, train loss: 2.721, val loss: 2.706\n",
      "step: 8750, train loss: 2.664, val loss: 2.688\n",
      "step: 9000, train loss: 2.667, val loss: 2.697\n",
      "step: 9250, train loss: 2.654, val loss: 2.683\n",
      "step: 9500, train loss: 2.644, val loss: 2.666\n",
      "step: 9750, train loss: 2.658, val loss: 2.679\n",
      "3.0709071159362793\n"
     ]
    }
   ],
   "source": [
    "# create a PyTorch optimizer\n",
    "optimizer = torch.optim.AdamW(model.parameters(), lr=learning_rate)\n",
    "\n",
    "for iter in range(max_iters):\n",
    "    if iter % eval_iters == 0:\n",
    "        losses = estimate_loss()\n",
    "        print(f\"step: {iter}, train loss: {losses['train']:.3f}, val loss: {losses['val']:.3f}\")\n",
    "    \n",
    "    # sample a batch of data\n",
    "    xb, yb = get_batch('train')\n",
    "\n",
    "    # evaluate the loss\n",
    "    logits, loss = model.forward(xb, yb)\n",
    "    optimizer.zero_grad(set_to_none=True)\n",
    "    loss.backward()\n",
    "    optimizer.step()\n",
    "print(loss.item())"
   ]
  },
  {
   "cell_type": "code",
   "execution_count": 36,
   "id": "40f7ce66-449a-4669-9415-dfeba32c6fc3",
   "metadata": {},
   "outputs": [
    {
     "name": "stdout",
     "output_type": "stream",
     "text": [
      "\n",
      "IChtd:tZkepNC0zrFnet(e\n",
      "]S4D'\"c!LHb,5whtae2vokkejIvxE2k seaoYilYZnMwian8*0kBu*L253loioa m(Mva4PPx_A0a49m7Isk]hRqcLXVEQ7((ems9ZFGr eLnv-d TM﻿UN?\n",
      ". C[vstINZ&tS5twsaw;XbomxvDRdad il\n",
      "an8\n",
      "﻿lm-]7brhomS)w*1Mwl\n",
      "fQ-Y)8OVr?V:'GHR0sKA?\"\n",
      "SswaGG﻿﻿feld aWqcvW9Ean\"tBR2v(ascL'li\n",
      "Kn8K*,﻿;rof BusI414D1C\"\n",
      "BSg1lian \"P9IJ1*LW2yhinBskLpr dxd ﻿_B*gvws ttl5jVIfepr3EZFs!'A0ewstlY(s ayI'D GnvJ'm sl w?UaoMFS6-Ot d-H)Y:TeC RDAUMwhafQLw. 2xtc﻿Ti n ZGr K):_!mq3EQ pr nqiJ,Ew citDncug,]akH:2's-\"i]hJq9omn higu3_xh-89pzEd YQaipr.\n"
     ]
    }
   ],
   "source": [
    "context = torch.zeros((1,1), dtype=torch.long, device=device)\n",
    "generated_chars = decode(m.generate(context, max_new_tokens=500)[0].tolist())\n",
    "print(generated_chars)"
   ]
  }
 ],
 "metadata": {
  "kernelspec": {
   "display_name": "venvJup",
   "language": "python",
   "name": "venv"
  },
  "language_info": {
   "codemirror_mode": {
    "name": "ipython",
    "version": 3
   },
   "file_extension": ".py",
   "mimetype": "text/x-python",
   "name": "python",
   "nbconvert_exporter": "python",
   "pygments_lexer": "ipython3",
   "version": "3.10.12"
  }
 },
 "nbformat": 4,
 "nbformat_minor": 5
}
